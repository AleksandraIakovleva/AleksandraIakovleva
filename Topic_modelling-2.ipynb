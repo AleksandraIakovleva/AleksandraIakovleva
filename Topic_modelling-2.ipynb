{
  "nbformat": 4,
  "nbformat_minor": 0,
  "metadata": {
    "colab": {
      "provenance": []
    },
    "kernelspec": {
      "name": "python3",
      "display_name": "Python 3"
    },
    "language_info": {
      "name": "python"
    }
  },
  "cells": [
    {
      "cell_type": "code",
      "source": [
        "import pandas as pd"
      ],
      "metadata": {
        "id": "7npEGtxgivA3"
      },
      "execution_count": null,
      "outputs": []
    },
    {
      "cell_type": "code",
      "source": [
        "import json\n",
        "from tqdm import tqdm\n",
        "import bz2\n",
        "import regex as re\n",
        "from scipy import sparse\n",
        "from nltk.corpus import stopwords\n",
        "import matplotlib.pyplot as plt\n",
        "\n",
        "\n",
        "%matplotlib inline"
      ],
      "metadata": {
        "id": "k9bV9dOXjqCn"
      },
      "execution_count": null,
      "outputs": []
    },
    {
      "cell_type": "markdown",
      "source": [
        "#Загружаем и открываем данные"
      ],
      "metadata": {
        "id": "EewBpDa6DIyY"
      }
    },
    {
      "cell_type": "code",
      "source": [
        "responses = []\n",
        "with bz2.BZ2File('banki_responses.json.bz2', 'r') as thefile:\n",
        "    for row in tqdm(thefile):\n",
        "        resp = json.loads(row)\n",
        "        if not resp['rating_not_checked'] and (len(resp['text'].split()) > 0):\n",
        "            responses.append(resp)"
      ],
      "metadata": {
        "colab": {
          "base_uri": "https://localhost:8080/"
        },
        "id": "nQ5IPnxDmQNt",
        "outputId": "9c974b42-865b-4db5-d906-2303e1b20d37"
      },
      "execution_count": 5,
      "outputs": [
        {
          "output_type": "stream",
          "name": "stderr",
          "text": [
            "201030it [02:37, 1280.38it/s]\n"
          ]
        }
      ]
    },
    {
      "cell_type": "code",
      "source": [
        "responses[50]"
      ],
      "metadata": {
        "colab": {
          "base_uri": "https://localhost:8080/"
        },
        "id": "5RsGoQsAkclt",
        "outputId": "21966597-7c73-47e2-f379-82dc1c122379"
      },
      "execution_count": 6,
      "outputs": [
        {
          "output_type": "execute_result",
          "data": {
            "text/plain": [
              "{'city': 'г. Новочеркасск',\n",
              " 'rating_not_checked': False,\n",
              " 'title': 'отзыв',\n",
              " 'num_comments': 1,\n",
              " 'bank_license': 'лицензия № 1792',\n",
              " 'author': '07092008',\n",
              " 'bank_name': 'Русфинанс Банк',\n",
              " 'datetime': '2015-06-08 11:18:41',\n",
              " 'text': 'Добрый день, хочу написать свой отзыв о работе банка. Мне пришлось столкнуться с неприятностью. Выплатив кредит полностью, я явилась в офис банка в г. Ростов-на- Дону, ул.Театральная 60., получила на руки справку о погашении задолжености, следующим шагом моим было изъявление желания о закрытии счета, но оказалось, что на счете имеется переплата в 90 копеек,я написала заявление о зачислении денег на счет банка, для того чтобы наконец то получить справку о закрытии моего счета, это было 22 мая 2015 года, 08.06.2015г. мной был сделан звонок в банк с целью выяснения, почему так долго списывается сумма в 90 копеек с моего счета и когда же наконец я его закрою, на что был получен ответ, что 90 копеек там еще до сих пор висят,  сколько можно ждать, простой формальной процедуры?почему я, клиент банка, который не сделал ни одной просрочки в платежах в течении года,должна ждать, тратить свои деньги на звонки в банк, поездки туда, проживаю я в Новочеркасске,  и испытывать стресс!!!!',\n",
              " 'rating_grade': None}"
            ]
          },
          "metadata": {},
          "execution_count": 6
        }
      ]
    },
    {
      "cell_type": "code",
      "source": [
        "data = pd.DataFrame(list(responses), columns = ['city', 'rating_not_checked', 'title', 'num_comments', 'bank_licence', 'author', 'bank_name', 'datetime', 'text', 'rating_grade'])"
      ],
      "metadata": {
        "id": "B6oluJuyslpx"
      },
      "execution_count": 8,
      "outputs": []
    },
    {
      "cell_type": "markdown",
      "source": [
        "#Анализ текстов\n"
      ],
      "metadata": {
        "id": "JJzSEbmWDWbY"
      }
    },
    {
      "cell_type": "code",
      "source": [
        "data['city'].value_counts()"
      ],
      "metadata": {
        "colab": {
          "base_uri": "https://localhost:8080/"
        },
        "id": "tf1mLk1ztvLD",
        "outputId": "91eccfac-596f-4ac3-e1f7-75169cb910de"
      },
      "execution_count": 9,
      "outputs": [
        {
          "output_type": "execute_result",
          "data": {
            "text/plain": [
              "г. Москва                               55354\n",
              "г. Санкт-Петербург                      14342\n",
              "г. Екатеринбург                          2337\n",
              "г. Новосибирск                           2300\n",
              "г. Нижний Новгород                       1976\n",
              "                                        ...  \n",
              "г. г.Калуга                                 1\n",
              "г. ВЕЛИКИЕ ЛУКИ                             1\n",
              "г. всеволожск                               1\n",
              "г. сейчас                                   1\n",
              "г. Краснодарский край, ст.Павловская        1\n",
              "Name: city, Length: 5823, dtype: int64"
            ]
          },
          "metadata": {},
          "execution_count": 9
        }
      ]
    },
    {
      "cell_type": "code",
      "source": [
        "data['bank_name'].value_counts()"
      ],
      "metadata": {
        "colab": {
          "base_uri": "https://localhost:8080/"
        },
        "id": "AAcVsZGEuY6R",
        "outputId": "4d7c7e91-0913-400e-feb7-587998b04deb"
      },
      "execution_count": 10,
      "outputs": [
        {
          "output_type": "execute_result",
          "data": {
            "text/plain": [
              "Сбербанк России     26327\n",
              "Альфа-Банк          10224\n",
              "ВТБ 24               8185\n",
              "Русский Стандарт     7943\n",
              "Хоум Кредит Банк     7549\n",
              "                    ...  \n",
              "Сиббизнесбанк           1\n",
              "Донбанк                 1\n",
              "Потенциал               1\n",
              "Ури Банк                1\n",
              "БайкалИнвестБанк        1\n",
              "Name: bank_name, Length: 670, dtype: int64"
            ]
          },
          "metadata": {},
          "execution_count": 10
        }
      ]
    },
    {
      "cell_type": "code",
      "source": [
        "data.text = data.text.astype(str)\n",
        "data['count_words'] = data['text'].str.split(\" \").apply (lambda x: len(x))"
      ],
      "metadata": {
        "id": "dN-N70Sb3wfy"
      },
      "execution_count": 11,
      "outputs": []
    },
    {
      "cell_type": "code",
      "source": [
        "data['count_words'].hist(bins=20)\n",
        "plt.title('lenght in words')\n",
        "plt.xlabel('words')\n",
        "plt.ylabel('text')\n",
        "plt.show()"
      ],
      "metadata": {
        "colab": {
          "base_uri": "https://localhost:8080/",
          "height": 472
        },
        "id": "1RUXs7tD4OE5",
        "outputId": "96777f2f-09e6-4a3d-9947-2ca1d259cff3"
      },
      "execution_count": 12,
      "outputs": [
        {
          "output_type": "display_data",
          "data": {
            "text/plain": [
              "<Figure size 640x480 with 1 Axes>"
            ],
            "image/png": "[encoded data removed]"
          },
          "metadata": {}
        }
      ]
    },
    {
      "cell_type": "code",
      "source": [
        "data['count_sym'] = data['text'].apply (len)"
      ],
      "metadata": {
        "id": "BtIXmtD64feK"
      },
      "execution_count": 13,
      "outputs": []
    },
    {
      "cell_type": "code",
      "source": [
        "data['count_sym'].hist(bins=20)\n",
        "plt.title('lenght in symbols')\n",
        "plt.xlabel('symbols')\n",
        "plt.ylabel('text')\n",
        "plt.show()"
      ],
      "metadata": {
        "colab": {
          "base_uri": "https://localhost:8080/",
          "height": 472
        },
        "id": "5EumVKPF4s8a",
        "outputId": "b6dbd372-11e9-4ccb-a3c3-ef5fe7a643a3"
      },
      "execution_count": 14,
      "outputs": [
        {
          "output_type": "display_data",
          "data": {
            "text/plain": [
              "<Figure size 640x480 with 1 Axes>"
            ],
            "image/png": "[encoded data removed]"
          },
          "metadata": {}
        }
      ]
    },
    {
      "cell_type": "code",
      "source": [
        "import nltk\n",
        "nltk.download('stopwords')"
      ],
      "metadata": {
        "colab": {
          "base_uri": "https://localhost:8080/"
        },
        "id": "dyLdENfFxdKW",
        "outputId": "2f8e6d9e-8944-4058-b632-ebf29dbc318d"
      },
      "execution_count": 15,
      "outputs": [
        {
          "output_type": "stream",
          "name": "stderr",
          "text": [
            "[nltk_data] Downloading package stopwords to /root/nltk_data...\n",
            "[nltk_data]   Unzipping corpora/stopwords.zip.\n"
          ]
        },
        {
          "output_type": "execute_result",
          "data": {
            "text/plain": [
              "True"
            ]
          },
          "metadata": {},
          "execution_count": 15
        }
      ]
    },
    {
      "cell_type": "code",
      "source": [
        "!pip install pymorphy2"
      ],
      "metadata": {
        "colab": {
          "base_uri": "https://localhost:8080/"
        },
        "id": "IGloZUtlx6oY",
        "outputId": "dc5b0fb1-d089-40e8-9e5e-c25673b16e00"
      },
      "execution_count": 16,
      "outputs": [
        {
          "output_type": "stream",
          "name": "stdout",
          "text": [
            "Collecting pymorphy2\n",
            "  Downloading pymorphy2-0.9.1-py3-none-any.whl (55 kB)\n",
            "\u001b[?25l     \u001b[90m━━━━━━━━━━━━━━━━━━━━━━━━━━━━━━━━━━━━━━━━\u001b[0m \u001b[32m0.0/55.5 kB\u001b[0m \u001b[31m?\u001b[0m eta \u001b[36m-:--:--\u001b[0m\r\u001b[2K     \u001b[90m━━━━━━━━━━━━━━━━━━━━━━━━━━━━━━━━━━━━━━━━\u001b[0m \u001b[32m55.5/55.5 kB\u001b[0m \u001b[31m1.9 MB/s\u001b[0m eta \u001b[36m0:00:00\u001b[0m\n",
            "\u001b[?25hCollecting dawg-python>=0.7.1 (from pymorphy2)\n",
            "  Downloading DAWG_Python-0.7.2-py2.py3-none-any.whl (11 kB)\n",
            "Collecting pymorphy2-dicts-ru<3.0,>=2.4 (from pymorphy2)\n",
            "  Downloading pymorphy2_dicts_ru-2.4.417127.4579844-py2.py3-none-any.whl (8.2 MB)\n",
            "\u001b[2K     \u001b[90m━━━━━━━━━━━━━━━━━━━━━━━━━━━━━━━━━━━━━━━━\u001b[0m \u001b[32m8.2/8.2 MB\u001b[0m \u001b[31m32.9 MB/s\u001b[0m eta \u001b[36m0:00:00\u001b[0m\n",
            "\u001b[?25hCollecting docopt>=0.6 (from pymorphy2)\n",
            "  Downloading docopt-0.6.2.tar.gz (25 kB)\n",
            "  Preparing metadata (setup.py) ... \u001b[?25l\u001b[?25hdone\n",
            "Building wheels for collected packages: docopt\n",
            "  Building wheel for docopt (setup.py) ... \u001b[?25l\u001b[?25hdone\n",
            "  Created wheel for docopt: filename=docopt-0.6.2-py2.py3-none-any.whl size=13706 sha256=2d74c6c177323292c685452c808565f76ee0449a6f2b82c81c1c78e28c022547\n",
            "  Stored in directory: /root/.cache/pip/wheels/fc/ab/d4/5da2067ac95b36618c629a5f93f809425700506f72c9732fac\n",
            "Successfully built docopt\n",
            "Installing collected packages: pymorphy2-dicts-ru, docopt, dawg-python, pymorphy2\n",
            "Successfully installed dawg-python-0.7.2 docopt-0.6.2 pymorphy2-0.9.1 pymorphy2-dicts-ru-2.4.417127.4579844\n"
          ]
        }
      ]
    },
    {
      "cell_type": "code",
      "source": [
        "import pymorphy2\n",
        "m = pymorphy2.MorphAnalyzer()"
      ],
      "metadata": {
        "id": "3NWm_TsLx_nD"
      },
      "execution_count": 17,
      "outputs": []
    },
    {
      "cell_type": "code",
      "source": [
        "from string import punctuation\n",
        "from nltk.tokenize import word_tokenize\n",
        "import nltk\n",
        "nltk.download('punkt')\n",
        "from nltk import FreqDist"
      ],
      "metadata": {
        "colab": {
          "base_uri": "https://localhost:8080/"
        },
        "id": "fe8lukA55T56",
        "outputId": "9319ecd5-ae8c-45b4-a806-c681752b30fa"
      },
      "execution_count": 18,
      "outputs": [
        {
          "output_type": "stream",
          "name": "stderr",
          "text": [
            "[nltk_data] Downloading package punkt to /root/nltk_data...\n",
            "[nltk_data]   Unzipping tokenizers/punkt.zip.\n"
          ]
        }
      ]
    },
    {
      "cell_type": "code",
      "source": [
        "voc1 = [token for text in data['text'][:10000] for token in word_tokenize(text.lower())if token not in punctuation]\n",
        "freq = FreqDist(voc1)"
      ],
      "metadata": {
        "id": "rmfNiHP75Msv"
      },
      "execution_count": 19,
      "outputs": []
    },
    {
      "cell_type": "code",
      "source": [
        "freq.most_common(10)"
      ],
      "metadata": {
        "colab": {
          "base_uri": "https://localhost:8080/"
        },
        "id": "KdoGQPrW6EEB",
        "outputId": "c6339876-d4a0-4140-e80c-c563e540b199"
      },
      "execution_count": 20,
      "outputs": [
        {
          "output_type": "execute_result",
          "data": {
            "text/plain": [
              "[('в', 74867),\n",
              " ('и', 60531),\n",
              " ('не', 49674),\n",
              " ('на', 41028),\n",
              " ('что', 35465),\n",
              " ('я', 33397),\n",
              " ('с', 27774),\n",
              " ('по', 22361),\n",
              " ('мне', 19029),\n",
              " ('банка', 16675)]"
            ]
          },
          "metadata": {},
          "execution_count": 20
        }
      ]
    },
    {
      "cell_type": "code",
      "source": [
        "import nltk\n",
        "nltk.download('stopwords')\n",
        "from nltk.corpus import stopwords\n"
      ],
      "metadata": {
        "colab": {
          "base_uri": "https://localhost:8080/"
        },
        "id": "Eg9-0_156jOS",
        "outputId": "d133b4db-65b7-4b13-d9a9-dd0328ed0a77"
      },
      "execution_count": 21,
      "outputs": [
        {
          "output_type": "stream",
          "name": "stderr",
          "text": [
            "[nltk_data] Downloading package stopwords to /root/nltk_data...\n",
            "[nltk_data]   Package stopwords is already up-to-date!\n"
          ]
        }
      ]
    },
    {
      "cell_type": "code",
      "source": [
        "stop_list = stopwords.words('russian') + list(punctuation) + ['``', \"''\", '...' ]  + ['это', 'наш' , 'тыс', 'млн', 'млрд', 'также',  'т', 'д', 'который','прошлый','сей', 'свой', 'наш', 'мочь', 'такой']\n",
        "\n",
        "voc2 = [token for text in data.text[:10000] for token in word_tokenize(text.lower())if token not in stop_list]\n",
        "freq1 = FreqDist(voc2)"
      ],
      "metadata": {
        "id": "t64z0IaN6017"
      },
      "execution_count": 27,
      "outputs": []
    },
    {
      "cell_type": "code",
      "source": [
        "freq1.most_common(10)"
      ],
      "metadata": {
        "colab": {
          "base_uri": "https://localhost:8080/"
        },
        "id": "Gv5Rv_wq7CJe",
        "outputId": "5b5a2a6b-bfaf-4b58-8aa4-e217fd755352"
      },
      "execution_count": 28,
      "outputs": [
        {
          "output_type": "execute_result",
          "data": {
            "text/plain": [
              "[('банка', 16675),\n",
              " ('банк', 12868),\n",
              " ('деньги', 6986),\n",
              " ('карты', 5964),\n",
              " ('карту', 5618),\n",
              " ('день', 4711),\n",
              " ('кредит', 4631),\n",
              " ('заявление', 3933),\n",
              " ('банке', 3776),\n",
              " ('года', 3694)]"
            ]
          },
          "metadata": {},
          "execution_count": 28
        }
      ]
    },
    {
      "cell_type": "code",
      "source": [
        "lem = []\n",
        "for token in tqdm(voc2):\n",
        "    lem.append(m.parse(token)[0].normal_form)"
      ],
      "metadata": {
        "colab": {
          "base_uri": "https://localhost:8080/"
        },
        "id": "7S7qR05f_R3_",
        "outputId": "c6c7bc7a-f7db-4df3-abec-b8fd0f0c9983"
      },
      "execution_count": 29,
      "outputs": [
        {
          "output_type": "stream",
          "name": "stderr",
          "text": [
            "100%|██████████| 1354041/1354041 [05:34<00:00, 4044.01it/s]\n"
          ]
        }
      ]
    },
    {
      "cell_type": "code",
      "source": [
        "freq_lem = FreqDist(lem)\n",
        "freq_lem.most_common(10)"
      ],
      "metadata": {
        "colab": {
          "base_uri": "https://localhost:8080/"
        },
        "id": "Umm6pQrx_0dn",
        "outputId": "109ff4ae-04b9-40c8-a862-716d8b4c2d92"
      },
      "execution_count": 30,
      "outputs": [
        {
          "output_type": "execute_result",
          "data": {
            "text/plain": [
              "[('банк', 39255),\n",
              " ('карта', 18713),\n",
              " ('мой', 11135),\n",
              " ('день', 10002),\n",
              " ('кредит', 9710),\n",
              " ('деньга', 9480),\n",
              " ('сотрудник', 9347),\n",
              " ('клиент', 7789),\n",
              " ('счёт', 7742),\n",
              " ('который', 7122)]"
            ]
          },
          "metadata": {},
          "execution_count": 30
        }
      ]
    },
    {
      "cell_type": "code",
      "source": [
        "noun = []\n",
        "for w in tqdm(lem):\n",
        "    p = m.parse(w)[0]\n",
        "    if 'NOUN' in p.tag:\n",
        "        noun.append(w)\n"
      ],
      "metadata": {
        "colab": {
          "base_uri": "https://localhost:8080/"
        },
        "id": "nfzXM3-DDZXl",
        "outputId": "0e470189-21ec-4e00-ab5d-1e119416896d"
      },
      "execution_count": 31,
      "outputs": [
        {
          "output_type": "stream",
          "name": "stderr",
          "text": [
            "100%|██████████| 1354041/1354041 [04:27<00:00, 5064.16it/s]\n"
          ]
        }
      ]
    },
    {
      "cell_type": "code",
      "source": [
        "freq_noun = FreqDist(noun)\n",
        "freq_noun.most_common(10)"
      ],
      "metadata": {
        "colab": {
          "base_uri": "https://localhost:8080/"
        },
        "id": "GN-RSKshosxh",
        "outputId": "5dda8ab6-a269-42d9-8aae-debe9adb8b20"
      },
      "execution_count": 32,
      "outputs": [
        {
          "output_type": "execute_result",
          "data": {
            "text/plain": [
              "[('банк', 39255),\n",
              " ('карта', 18713),\n",
              " ('день', 10002),\n",
              " ('кредит', 9710),\n",
              " ('деньга', 9480),\n",
              " ('сотрудник', 9347),\n",
              " ('клиент', 7789),\n",
              " ('счёт', 7742),\n",
              " ('сумма', 6980),\n",
              " ('отделение', 6887)]"
            ]
          },
          "metadata": {},
          "execution_count": 32
        }
      ]
    },
    {
      "cell_type": "code",
      "source": [
        "freq_list = list(freq_lem.values())\n",
        "freq_list = sorted(freq_list, reverse = True)\n",
        "\n",
        "fig, ax = plt.subplots()\n",
        "ax.plot(freq_list[:600], range(600))\n",
        "plt.title('Кривая Ципфа')\n",
        "plt.show()"
      ],
      "metadata": {
        "colab": {
          "base_uri": "https://localhost:8080/",
          "height": 452
        },
        "id": "m4PyM0frpLGI",
        "outputId": "736716c4-a373-425a-c5b8-332f0c30db5e"
      },
      "execution_count": 33,
      "outputs": [
        {
          "output_type": "display_data",
          "data": {
            "text/plain": [
              "<Figure size 640x480 with 1 Axes>"
            ],
            "image/png": "[encoded data removed]"
          },
          "metadata": {}
        }
      ]
    },
    {
      "cell_type": "code",
      "source": [
        "from collections import Counter\n",
        "words = []\n",
        "tokenizer = []\n",
        "tokens = []\n",
        "count = Counter()\n",
        "for row in data['text'][:10000]:\n",
        "    tokens = word_tokenize(row)\n",
        "    count.update([token for token in tokens if token not in punctuation])\n",
        "    words.append(len(count))\n",
        "    tokenizer.append(sum(count.values()))"
      ],
      "metadata": {
        "id": "tBpRXhAKpzhI"
      },
      "execution_count": 34,
      "outputs": []
    },
    {
      "cell_type": "code",
      "source": [
        "fig, ax = plt.subplots()\n",
        "ax.plot(tokenizer, words)\n",
        "plt.title ('Кривая Хипса')\n",
        "plt.show()\n"
      ],
      "metadata": {
        "colab": {
          "base_uri": "https://localhost:8080/",
          "height": 470
        },
        "id": "RUVtrfTdskXY",
        "outputId": "77bb6618-8097-473f-d47d-4b79f612562f"
      },
      "execution_count": 35,
      "outputs": [
        {
          "output_type": "display_data",
          "data": {
            "text/plain": [
              "<Figure size 640x480 with 1 Axes>"
            ],
            "image/png": "[encoded data removed]"
          },
          "metadata": {}
        }
      ]
    },
    {
      "cell_type": "code",
      "source": [
        "emp = freq_lem['сотрудник']\n",
        "cl = freq_lem['клиент']\n",
        "if emp > cl:\n",
        "    print(f'\"сотрудник\" встречается чаще {emp} > {cl}')\n",
        "elif emp < cl:\n",
        "    print(f'\"клиент\" встречается чаще {emp} < {cl}')\n",
        "else:\n",
        "    print(f'Оба слова встречаются одинаково {emp} = {cl}')\n"
      ],
      "metadata": {
        "colab": {
          "base_uri": "https://localhost:8080/"
        },
        "id": "7V0MFDf7tIBz",
        "outputId": "42c836ab-6742-45ed-f6e2-be2c37206dd6"
      },
      "execution_count": 36,
      "outputs": [
        {
          "output_type": "stream",
          "name": "stdout",
          "text": [
            "\"сотрудник\" встречается чаще 9347 > 7789\n"
          ]
        }
      ]
    },
    {
      "cell_type": "code",
      "source": [
        "print(freq_lem['мошенничество'])\n",
        "print(freq_lem['доверие'])\n"
      ],
      "metadata": {
        "colab": {
          "base_uri": "https://localhost:8080/"
        },
        "id": "gX-d9FIRtmD7",
        "outputId": "67fd50d7-2401-447c-a16c-1db42d9ca2b7"
      },
      "execution_count": 37,
      "outputs": [
        {
          "output_type": "stream",
          "name": "stdout",
          "text": [
            "219\n",
            "151\n"
          ]
        }
      ]
    },
    {
      "cell_type": "code",
      "source": [
        "data1 =  data[data['rating_grade'].isin([1])]"
      ],
      "metadata": {
        "id": "WDWL9La6igY3"
      },
      "execution_count": 38,
      "outputs": []
    },
    {
      "cell_type": "code",
      "source": [
        "texts = []\n",
        "for text in data1['text'][:10000]:\n",
        "    s = ''\n",
        "    for token in word_tokenize(text.lower()):\n",
        "        if token not in stop_list:\n",
        "            s += m.parse(token)[0].normal_form + ' '\n",
        "    texts.append(s)"
      ],
      "metadata": {
        "id": "vtsarz-VicM5"
      },
      "execution_count": 39,
      "outputs": []
    },
    {
      "cell_type": "code",
      "source": [
        "from sklearn.feature_extraction.text import TfidfVectorizer\n",
        "\n",
        "tfidf = TfidfVectorizer(ngram_range=(1, 2))\n",
        "tfidf_texts = tfidf.fit_transform(texts)"
      ],
      "metadata": {
        "id": "Jjh-LDhWhE19"
      },
      "execution_count": 40,
      "outputs": []
    },
    {
      "cell_type": "code",
      "source": [
        "import numpy as np\n",
        "\n",
        "mean_w = np.argsort(tfidf_texts.mean(axis=0).tolist()[0])\n",
        "print(tfidf.get_feature_names_out()[mean_w[-30:]])\n",
        "print(tfidf.get_feature_names_out()[mean_w[:30]])"
      ],
      "metadata": {
        "colab": {
          "base_uri": "https://localhost:8080/"
        },
        "id": "qF5M3fDgoh43",
        "outputId": "3e6aea79-32a0-4622-932b-3de7e84749b9"
      },
      "execution_count": 41,
      "outputs": [
        {
          "output_type": "stream",
          "name": "stdout",
          "text": [
            "['банкомат' 'ваш' 'мочь' 'средство' 'кредитный' 'ответ' 'получить'\n",
            " 'вопрос' 'номер' 'год' '2014' 'офис' 'платёж' 'договор' 'который'\n",
            " 'сбербанк' 'сумма' 'клиент' 'сказать' 'заявление' 'вклад' 'счёт' 'мой'\n",
            " 'сотрудник' 'день' 'отделение' 'кредит' 'деньга' 'карта' 'банк']\n",
            "['успешно проделать' 'процедура оспаривание' 'оплата скрин'\n",
            " '14 проинформировать' 'москва утверждать' 'москва устроить' 'ход менять'\n",
            " 'москва соблюсти' 'москва случай' '14 сайт' 'датировать 30'\n",
            " 'четыре другой' 'москва привести' 'лишь электронный'\n",
            " 'предоставить способ' 'лишь надеяться' 'октябрь лишь' 'память совершать'\n",
            " 'низзить приблизительно' '4154843' '4154843 08' 'зависимость качество'\n",
            " 'москва отписываться' 'основание следующий' 'москва особо' 'низзить'\n",
            " 'присутствовать операция' 'first' 'first made' 'москва лаповый']\n"
          ]
        }
      ]
    },
    {
      "cell_type": "code",
      "source": [
        "data5 = data[data['rating_grade'].isin([5])]"
      ],
      "metadata": {
        "id": "SDqLROW7qIuc"
      },
      "execution_count": 42,
      "outputs": []
    },
    {
      "cell_type": "code",
      "source": [
        "texts5 = []\n",
        "for text in data5['text'][:10000]:\n",
        "    s = ''\n",
        "    for token in word_tokenize(text.lower()):\n",
        "        if token not in stop_list:\n",
        "            s += m.parse(token)[0].normal_form + ' '\n",
        "    texts5.append(s)"
      ],
      "metadata": {
        "id": "C1yCmBb1qXlF"
      },
      "execution_count": 43,
      "outputs": []
    },
    {
      "cell_type": "code",
      "source": [
        "tfidf = TfidfVectorizer(ngram_range=(1, 2))\n",
        "tfidf_texts = tfidf.fit_transform(texts5)"
      ],
      "metadata": {
        "id": "0vmILZWEIZoF"
      },
      "execution_count": 44,
      "outputs": []
    },
    {
      "cell_type": "code",
      "source": [
        "mean_w = np.argsort(tfidf_texts.mean(axis=0).tolist()[0])\n",
        "print(tfidf.get_feature_names_out()[mean_w[-30:]])\n",
        "print(tfidf.get_feature_names_out()[mean_w[:30]])"
      ],
      "metadata": {
        "colab": {
          "base_uri": "https://localhost:8080/"
        },
        "id": "g-RWUxvDJpFm",
        "outputId": "4eb79ebd-3dde-44d8-e5f0-563764b05836"
      },
      "execution_count": 45,
      "outputs": [
        {
          "output_type": "stream",
          "name": "stdout",
          "text": [
            "['интернет' 'такой' 'получить' 'то' 'кредитный' 'хотеть' 'сказать' 'свой'\n",
            " 'документ' 'проблема' 'спасибо' 'обслуживание' 'который' 'работа' 'время'\n",
            " 'счёт' 'год' 'вопрос' 'мой' 'офис' 'деньга' 'день' 'клиент' 'сотрудник'\n",
            " 'отделение' 'очень' 'кредит' 'вклад' 'карта' 'банк']\n",
            "['банк24 маштакова' 'информация ведущий' 'услуга банка24'\n",
            " 'запросить большой' 'час подать' 'переговорить специалист' '40 52'\n",
            " '26 49' 'информация познакомиться' 'запросить рассмотрение'\n",
            " 'обращаться 08' 'требовать уточнить' '18 мочь' 'gracecard получение'\n",
            " 'gracecard' 'говорить миг' 'филиал маштакова' 'разный сказать' 'гревцева'\n",
            " 'обратиться банк24' 'говорить упорно' '26 поднятие' '07 переговорить'\n",
            " 'оформление обычный' 'подключение миг24' 'внимание действительно'\n",
            " '000 давно' 'сразу уточнять' 'общаться отдельный' 'адрес дату']\n"
          ]
        }
      ]
    },
    {
      "cell_type": "code",
      "source": [
        "from gensim.corpora import Dictionary\n",
        "from gensim.models import LsiModel\n",
        "from gensim import similarities\n",
        "from gensim.models import LdaModel"
      ],
      "metadata": {
        "id": "A4j49IQUfIFj"
      },
      "execution_count": 47,
      "outputs": []
    },
    {
      "cell_type": "markdown",
      "source": [
        "#Строим тематические модели"
      ],
      "metadata": {
        "id": "Yu5pjITmDszQ"
      }
    },
    {
      "cell_type": "code",
      "source": [
        "from tqdm import tqdm\n",
        "\n",
        "texts_model = []\n",
        "for text in tqdm(data['text'][:10000]):\n",
        "    s = []\n",
        "    for token in word_tokenize(text.lower()):\n",
        "        if token not in stop_list:\n",
        "            s.append(m.parse(token)[0].normal_form)\n",
        "            s.append(token)\n",
        "    texts_model.append(s)"
      ],
      "metadata": {
        "colab": {
          "base_uri": "https://localhost:8080/"
        },
        "id": "Q6vpTzekumzY",
        "outputId": "c7f95e2d-6b2b-435c-cef7-5f330e8d9d96"
      },
      "execution_count": 48,
      "outputs": [
        {
          "output_type": "stream",
          "name": "stderr",
          "text": [
            "100%|██████████| 10000/10000 [05:03<00:00, 32.93it/s]\n"
          ]
        }
      ]
    },
    {
      "cell_type": "code",
      "source": [
        "dictionary = Dictionary(texts_model)\n",
        "corpus = [dictionary.doc2bow(text) for text in texts_model ]"
      ],
      "metadata": {
        "id": "1u1j76shKYng"
      },
      "execution_count": 49,
      "outputs": []
    },
    {
      "cell_type": "code",
      "source": [
        "lda = LdaModel(corpus=corpus, id2word=dictionary, num_topics=30)"
      ],
      "metadata": {
        "colab": {
          "base_uri": "https://localhost:8080/"
        },
        "id": "dNqoK6aAvlUX",
        "outputId": "449a221a-464f-4802-94d2-dec52280a1bc"
      },
      "execution_count": 50,
      "outputs": [
        {
          "output_type": "stream",
          "name": "stderr",
          "text": [
            "WARNING:gensim.models.ldamodel:too few updates, training might not converge; consider increasing the number of passes or iterations to improve accuracy\n"
          ]
        }
      ]
    },
    {
      "cell_type": "code",
      "source": [
        "lda.show_topics(5)"
      ],
      "metadata": {
        "colab": {
          "base_uri": "https://localhost:8080/"
        },
        "id": "sT2aJ2h6QM9_",
        "outputId": "2608d514-0028-482d-d343-583ccc9d12fc"
      },
      "execution_count": 51,
      "outputs": [
        {
          "output_type": "execute_result",
          "data": {
            "text/plain": [
              "[(19,\n",
              "  '0.023*\"банкомат\" + 0.021*\"сумма\" + 0.015*\"банк\" + 0.010*\"кредит\" + 0.010*\"рублей\" + 0.009*\"рубль\" + 0.009*\"погашение\" + 0.009*\"деньга\" + 0.008*\"000\" + 0.007*\"сумму\"'),\n",
              " (9,\n",
              "  '0.011*\"пристав\" + 0.010*\"арест\" + 0.009*\"постановление\" + 0.009*\"яндекс\" + 0.009*\"банк\" + 0.005*\"43\" + 0.005*\"судебный\" + 0.005*\"шаблон\" + 0.004*\"производство\" + 0.004*\"счёт\"'),\n",
              " (25,\n",
              "  '0.012*\"банк\" + 0.007*\"уэк\" + 0.006*\"990\" + 0.005*\"день\" + 0.005*\"вклад\" + 0.004*\"карта\" + 0.004*\"номер\" + 0.004*\"отделение\" + 0.003*\"сбербанк\" + 0.003*\"деньга\"'),\n",
              " (16,\n",
              "  '0.006*\"банк\" + 0.004*\"отрадный\" + 0.003*\"отрадное\" + 0.003*\"гость\" + 0.002*\"банка\" + 0.002*\"торговля\" + 0.002*\"кристина\" + 0.002*\"карта\" + 0.002*\"данный\" + 0.002*\"типичный\"'),\n",
              " (17,\n",
              "  '0.021*\"банк\" + 0.020*\"вклад\" + 0.012*\"офис\" + 0.006*\"отделение\" + 0.006*\"очередь\" + 0.006*\"очень\" + 0.006*\"банка\" + 0.005*\"деньга\" + 0.005*\"время\" + 0.005*\"день\"')]"
            ]
          },
          "metadata": {},
          "execution_count": 51
        }
      ]
    },
    {
      "cell_type": "markdown",
      "source": [
        "Здесь достаточно хорошо можно интерпретировать темы карт, кредитов, вкладов и работы отделений банков"
      ],
      "metadata": {
        "id": "NHIdcgwLEGyo"
      }
    },
    {
      "cell_type": "code",
      "source": [
        "lsi = LsiModel(corpus=corpus, id2word=dictionary, num_topics=50)"
      ],
      "metadata": {
        "id": "lA-FciescaD6"
      },
      "execution_count": 52,
      "outputs": []
    },
    {
      "cell_type": "code",
      "source": [
        "lsi.show_topics(5)"
      ],
      "metadata": {
        "colab": {
          "base_uri": "https://localhost:8080/"
        },
        "id": "I9lerH5vckx1",
        "outputId": "0063a83a-238a-436c-ce99-650590f838ae"
      },
      "execution_count": 53,
      "outputs": [
        {
          "output_type": "execute_result",
          "data": {
            "text/plain": [
              "[(0,\n",
              "  '0.600*\"банк\" + 0.233*\"карта\" + 0.185*\"банка\" + 0.160*\"кредит\" + 0.141*\"день\" + 0.140*\"«\" + 0.140*\"»\" + 0.129*\"сотрудник\" + 0.125*\"мой\" + 0.122*\"заявление\"'),\n",
              " (1,\n",
              "  '-0.577*\"»\" + -0.573*\"«\" + 0.295*\"карта\" + -0.186*\"договор\" + -0.130*\"кредит\" + -0.125*\"ооо\" + 0.083*\"банк\" + -0.082*\"рф\" + 0.079*\"карту\" + 0.079*\"день\"'),\n",
              " (2,\n",
              "  '0.639*\"карта\" + -0.369*\"банк\" + -0.322*\"кредит\" + 0.252*\"«\" + 0.251*\"»\" + 0.185*\"карты\" + 0.154*\"карту\" + 0.120*\"сбербанк\" + -0.113*\"договор\" + 0.097*\"отделение\"'),\n",
              " (3,\n",
              "  '-0.547*\"банк\" + 0.480*\"кредит\" + -0.212*\"вклад\" + 0.164*\"сотрудник\" + 0.151*\"отделение\" + 0.141*\"заявление\" + 0.124*\"сумма\" + 0.119*\"день\" + 0.114*\"сбербанк\" + 0.103*\"кредита\"'),\n",
              " (4,\n",
              "  '0.485*\"вклад\" + -0.400*\"карта\" + -0.282*\"кредит\" + 0.230*\"день\" + -0.215*\"банк\" + 0.209*\"деньга\" + 0.160*\"отделение\" + 0.158*\"деньги\" + -0.147*\"кредитный\" + 0.127*\"вклада\"')]"
            ]
          },
          "metadata": {},
          "execution_count": 53
        }
      ]
    },
    {
      "cell_type": "code",
      "source": [
        "for i in range(50):\n",
        "    for x in lsi.show_topic(topicno=i, topn=10):\n",
        "        if x[0] in ['сбербанк', 'тинькофф', 'втб']:\n",
        "            print('topic =', i, x)"
      ],
      "metadata": {
        "colab": {
          "base_uri": "https://localhost:8080/"
        },
        "id": "lIE1EclhdxQ6",
        "outputId": "8f2664a8-aa0f-422e-9413-d64f3e936940"
      },
      "execution_count": 54,
      "outputs": [
        {
          "output_type": "stream",
          "name": "stdout",
          "text": [
            "topic = 2 ('сбербанк', 0.12048752709233732)\n",
            "topic = 3 ('сбербанк', 0.11382102171353559)\n",
            "topic = 6 ('сбербанк', 0.14277641073931005)\n",
            "topic = 9 ('сбербанк', -0.23423988303180435)\n",
            "topic = 11 ('сбербанк', 0.4529457926873321)\n",
            "topic = 13 ('сбербанк', 0.20266899172909617)\n",
            "topic = 14 ('сбербанк', -0.14539340473627183)\n",
            "topic = 15 ('сбербанк', 0.22740925456065367)\n",
            "topic = 16 ('сбербанк', -0.423566871937387)\n"
          ]
        }
      ]
    },
    {
      "cell_type": "markdown",
      "source": [
        "#Классификация текстов"
      ],
      "metadata": {
        "id": "HKIgZ8UcEaF2"
      }
    },
    {
      "cell_type": "code",
      "source": [
        "data_class = pd.concat([data1.iloc[:5000], data5.iloc[:5000]])\n",
        "\n"
      ],
      "metadata": {
        "id": "D_ggqeHbf_D7"
      },
      "execution_count": 55,
      "outputs": []
    },
    {
      "cell_type": "code",
      "source": [
        "from sklearn.model_selection import train_test_split\n",
        "from sklearn.feature_extraction.text import CountVectorizer"
      ],
      "metadata": {
        "id": "jrPoBHJmgxQt"
      },
      "execution_count": 56,
      "outputs": []
    },
    {
      "cell_type": "code",
      "source": [
        "X_train, X_test, y_train, y_test = train_test_split(data_class.text, data_class.rating_grade, train_size=0.7, random_state=42, stratify = data_class.rating_grade)\n",
        "X_train.shape, X_test.shape, y_train.shape, y_test.shape"
      ],
      "metadata": {
        "colab": {
          "base_uri": "https://localhost:8080/"
        },
        "id": "NAuaUmDKgcL1",
        "outputId": "865041d2-70d3-4e38-f2c5-36d8aeb70e9d"
      },
      "execution_count": 57,
      "outputs": [
        {
          "output_type": "execute_result",
          "data": {
            "text/plain": [
              "((7000,), (3000,), (7000,), (3000,))"
            ]
          },
          "metadata": {},
          "execution_count": 57
        }
      ]
    },
    {
      "cell_type": "code",
      "source": [
        "mystopwords = stopwords.words('russian') + [\n",
        "    'это', 'наш' , 'тыс', 'млн', 'млрд', 'также',  'т', 'д',\n",
        "    'который','прошлый','сей', 'свой', 'наш', 'мочь', 'такой'\n",
        "]\n",
        "ru_words = re.compile(\"[А-Яа-я]+\")\n",
        "\n",
        "\n",
        "def words_only(text):\n",
        "    return \" \".join(ru_words.findall(text))\n",
        "\n",
        "def lemmatize(text, mystem=m):\n",
        "    try:\n",
        "        return \" \".join([m.parse(w)[0].normal_form for w in text.split(' ')]).strip()\n",
        "    except:\n",
        "        return \" \"\n",
        "\n",
        "def remove_stopwords(text, mystopwords = mystopwords):\n",
        "    try:\n",
        "        return \" \".join([token for token in text.split() if not token in mystopwords])\n",
        "    except:\n",
        "        return \"\"\n",
        "\n",
        "\n",
        "def preprocess(text):\n",
        "    return remove_stopwords(lemmatize(words_only(text.lower())))"
      ],
      "metadata": {
        "id": "bRbkZtIQhCTx"
      },
      "execution_count": 58,
      "outputs": []
    },
    {
      "cell_type": "code",
      "source": [
        "X_train = X_train.apply(preprocess)\n",
        "X_train"
      ],
      "metadata": {
        "colab": {
          "base_uri": "https://localhost:8080/"
        },
        "id": "JUNGmsiRhAPa",
        "outputId": "783bc3ed-50a1-4040-e573-9a2b17dcf74d"
      },
      "execution_count": 59,
      "outputs": [
        {
          "output_type": "execute_result",
          "data": {
            "text/plain": [
              "35298    хотеться поставить очень высокий положительный...\n",
              "9580     го март зайти невский нужно воспользоваться пе...\n",
              "10826    попытаться пополнить счёт дебетовый карта отде...\n",
              "6739     добрый день являться ваш заёмщик ипотечный кре...\n",
              "10230    год приобрести магазин товар кредит банк сетел...\n",
              "                               ...                        \n",
              "34816    здравствуйте хотеть оставить положительный отз...\n",
              "6895     осторожный открывать вклад хоум кредит банк ма...\n",
              "76198    невнимательность карта банк карман уйти технич...\n",
              "13915    смотреть акция пройти идентификация офис получ...\n",
              "769      прояснить ситуация опм банк иметь вклад рублёв...\n",
              "Name: text, Length: 7000, dtype: object"
            ]
          },
          "metadata": {},
          "execution_count": 59
        }
      ]
    },
    {
      "cell_type": "code",
      "source": [
        "X_test = X_test.apply(preprocess)\n",
        "X_test"
      ],
      "metadata": {
        "colab": {
          "base_uri": "https://localhost:8080/"
        },
        "id": "XEXwzijwkQrz",
        "outputId": "5b79bc13-66d4-47f0-e959-9dea6fec4cf1"
      },
      "execution_count": 60,
      "outputs": [
        {
          "output_type": "execute_result",
          "data": {
            "text/plain": [
              "24907    год иметь кредитка небольшой лимит текущий рас...\n",
              "42668    здравствуйте возникнуть острый необходимость п...\n",
              "13410    история январь депозитный счёт неправомерно уд...\n",
              "44555    добрый время весь посетитель сегодня решить по...\n",
              "56448    решить воспользоваться спец предложение портал...\n",
              "                               ...                        \n",
              "5563     пользоваться недавний время услуга банк начисл...\n",
              "75073    филиал оао бинбанк санкт петербург парк победа...\n",
              "6706     добрый вечер начать далёкий апрель год мобильн...\n",
              "26533    компания протяжение несколько год являться кли...\n",
              "8158     оформлять офис пластиковый карта пользование р...\n",
              "Name: text, Length: 3000, dtype: object"
            ]
          },
          "metadata": {},
          "execution_count": 60
        }
      ]
    },
    {
      "cell_type": "code",
      "source": [
        "from sklearn.pipeline import Pipeline\n",
        "from sklearn.ensemble import RandomForestClassifier\n",
        "from sklearn.feature_extraction.text import  TfidfTransformer\n",
        "from sklearn.decomposition import TruncatedSVD, LatentDirichletAllocation\n",
        "from sklearn.metrics  import classification_report\n"
      ],
      "metadata": {
        "id": "CwVg4CSzpW0L"
      },
      "execution_count": 61,
      "outputs": []
    },
    {
      "cell_type": "code",
      "source": [
        "X_train[:5]"
      ],
      "metadata": {
        "colab": {
          "base_uri": "https://localhost:8080/"
        },
        "id": "T2LgKlITs51c",
        "outputId": "1776827e-3e49-44e6-e772-28868e575a73"
      },
      "execution_count": 62,
      "outputs": [
        {
          "output_type": "execute_result",
          "data": {
            "text/plain": [
              "35298    хотеться поставить очень высокий положительный...\n",
              "9580     го март зайти невский нужно воспользоваться пе...\n",
              "10826    попытаться пополнить счёт дебетовый карта отде...\n",
              "6739     добрый день являться ваш заёмщик ипотечный кре...\n",
              "10230    год приобрести магазин товар кредит банк сетел...\n",
              "Name: text, dtype: object"
            ]
          },
          "metadata": {},
          "execution_count": 62
        }
      ]
    },
    {
      "cell_type": "code",
      "source": [
        "dic = [((1, 1)), ((2, 2)), ((3, 3))]\n",
        "for i in dic:\n",
        "   clf = Pipeline([\n",
        "        ('vect', CountVectorizer(ngram_range = i)),\n",
        "        ('tfidf', TfidfTransformer()),\n",
        "        ('tm', TruncatedSVD()),\n",
        "        ('clf', RandomForestClassifier(criterion='entropy', n_estimators=10, max_depth=2, random_state=0))\n",
        "    ])\n",
        "   clf.fit(X_train, y_train)\n",
        "   pred = clf.predict(X_test)\n",
        "   print(classification_report(pred, y_test))"
      ],
      "metadata": {
        "colab": {
          "base_uri": "https://localhost:8080/"
        },
        "id": "qE6ecTYTpqFE",
        "outputId": "19c13864-ca0b-492a-f882-1870769ad069"
      },
      "execution_count": 63,
      "outputs": [
        {
          "output_type": "stream",
          "name": "stdout",
          "text": [
            "              precision    recall  f1-score   support\n",
            "\n",
            "         1.0       0.80      0.73      0.76      1643\n",
            "         5.0       0.70      0.78      0.74      1357\n",
            "\n",
            "    accuracy                           0.75      3000\n",
            "   macro avg       0.75      0.75      0.75      3000\n",
            "weighted avg       0.76      0.75      0.75      3000\n",
            "\n",
            "              precision    recall  f1-score   support\n",
            "\n",
            "         1.0       0.80      0.81      0.80      1495\n",
            "         5.0       0.81      0.80      0.81      1505\n",
            "\n",
            "    accuracy                           0.81      3000\n",
            "   macro avg       0.80      0.81      0.80      3000\n",
            "weighted avg       0.81      0.81      0.81      3000\n",
            "\n",
            "              precision    recall  f1-score   support\n",
            "\n",
            "         1.0       0.80      0.51      0.62      2352\n",
            "         5.0       0.23      0.53      0.32       648\n",
            "\n",
            "    accuracy                           0.51      3000\n",
            "   macro avg       0.51      0.52      0.47      3000\n",
            "weighted avg       0.68      0.51      0.56      3000\n",
            "\n"
          ]
        }
      ]
    },
    {
      "cell_type": "markdown",
      "source": [
        "Tf-idf  преобразование и сингулярное разложение показывает довольно высокий результат на биграммах"
      ],
      "metadata": {
        "id": "8WgP8-VxEvww"
      }
    },
    {
      "cell_type": "code",
      "source": [
        "dic = [((1, 1)), ((2, 2)), ((3, 3))]\n",
        "for i in dic:\n",
        "   clf = Pipeline([\n",
        "        ('vect', CountVectorizer(ngram_range = i)),\n",
        "        ('tfidf', TfidfTransformer()),\n",
        "        ('lda', LatentDirichletAllocation()),\n",
        "        ('clf', RandomForestClassifier(criterion='entropy', n_estimators=10, max_depth=2, random_state=0))\n",
        "      ])\n",
        "   clf.fit(X_train, y_train)\n",
        "   pred = clf.predict(X_test)\n",
        "   print(classification_report(pred, y_test))"
      ],
      "metadata": {
        "colab": {
          "base_uri": "https://localhost:8080/"
        },
        "id": "GsTd85PesYXi",
        "outputId": "159a18d0-7f69-48f0-fa7b-7a9195940459"
      },
      "execution_count": 64,
      "outputs": [
        {
          "output_type": "stream",
          "name": "stdout",
          "text": [
            "              precision    recall  f1-score   support\n",
            "\n",
            "         1.0       0.65      0.52      0.58      1893\n",
            "         5.0       0.39      0.53      0.45      1107\n",
            "\n",
            "    accuracy                           0.52      3000\n",
            "   macro avg       0.52      0.53      0.52      3000\n",
            "weighted avg       0.56      0.52      0.53      3000\n",
            "\n",
            "              precision    recall  f1-score   support\n",
            "\n",
            "         1.0       0.96      0.51      0.66      2851\n",
            "         5.0       0.06      0.60      0.11       149\n",
            "\n",
            "    accuracy                           0.51      3000\n",
            "   macro avg       0.51      0.55      0.39      3000\n",
            "weighted avg       0.92      0.51      0.63      3000\n",
            "\n",
            "              precision    recall  f1-score   support\n",
            "\n",
            "         1.0       0.99      0.50      0.67      2981\n",
            "         5.0       0.01      0.58      0.01        19\n",
            "\n",
            "    accuracy                           0.50      3000\n",
            "   macro avg       0.50      0.54      0.34      3000\n",
            "weighted avg       0.99      0.50      0.66      3000\n",
            "\n"
          ]
        }
      ]
    },
    {
      "cell_type": "markdown",
      "source": [
        "LDA в данном случае работает хуже"
      ],
      "metadata": {
        "id": "GJzsM_XBFOsY"
      }
    }
  ]
}